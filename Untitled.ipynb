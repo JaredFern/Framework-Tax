{
 "cells": [
  {
   "cell_type": "code",
   "execution_count": 1,
   "id": "79fdb947",
   "metadata": {},
   "outputs": [
    {
     "name": "stdout",
     "output_type": "stream",
     "text": [
      "/home/jaredfer/Projects/Year3/DeviceBenchmarking\n"
     ]
    }
   ],
   "source": [
    "import numpy as np\n",
    "\n",
    "import torch\n",
    "from torch.profiler import ProfilerActivity, profile, record_function\n",
    "from torch.utils import benchmark\n",
    "\n",
    "import torch_tensorrt as ttrt\n",
    "import onnxruntime as ort\n",
    "from torchvision import models\n",
    "!pwd"
   ]
  },
  {
   "cell_type": "code",
   "execution_count": 2,
   "id": "f3e82dbc",
   "metadata": {},
   "outputs": [],
   "source": [
    "def create_and_bind_rgb(io_binding, bs, dtype, use_cuda=False):\n",
    "    device = 'cuda' if use_cuda else 'cpu'\n",
    "    dtype = torch.half if dtype == \"fp16\" else torch.float32\n",
    "    \n",
    "    pixels_cpu = torch.randn((bs,3,224,224), dtype=dtype).cpu().numpy()\n",
    "    out = torch.empty((bs,1000), dtype=dtype).cpu().numpy()\n",
    "    \n",
    "    pixels_ortvalue = ort.OrtValue.ortvalue_from_numpy(pixels_cpu, device, 0)\n",
    "    out_ortvalue = ort.OrtValue.ortvalue_from_numpy(out, device, 0)\n",
    "    \n",
    "    io_binding.bind_ortvalue_input('inputs', pixels_ortvalue)\n",
    "    io_binding.bind_ortvalue_output('outputs', out_ortvalue)\n"
   ]
  },
  {
   "cell_type": "code",
   "execution_count": 3,
   "id": "97e432dd",
   "metadata": {},
   "outputs": [],
   "source": [
    "def profile_onnx(onnx_fpath, batch_size, dtype, providers=['CUDAExecutionProvider']):\n",
    "    session = ort.InferenceSession(onnx_fpath, providers=providers)\n",
    "    io_binding = session.io_binding()\n",
    "\n",
    "    create_and_bind_rgb(io_binding, batch_size, dtype, True)\n",
    "    session.run_with_iobinding(io_binding)\n",
    "    \n",
    "    with profile(activities=[ProfilerActivity.CPU, ProfilerActivity.CUDA],\n",
    "                 on_trace_ready=torch.profiler.tensorboard_trace_handler(f'gpu_util/log/onnx-batch{batch_size}'),\n",
    "                 record_shapes=True, with_flops=True, profile_memory=True) as prof:\n",
    "        with record_function('graph_inference'):\n",
    "            session.run_with_iobinding(io_binding)\n",
    "    \n",
    "def profile_pytorch(model, inputs, batch_size, device, dtype):\n",
    "    _ = model(inputs)\n",
    "\n",
    "    with profile(activities=[ProfilerActivity.CPU, ProfilerActivity.CUDA],\n",
    "                 on_trace_ready=torch.profiler.tensorboard_trace_handler(f'gpu_util/log/pytorch-batch{batch_size}-{dtype}'),\n",
    "                 record_shapes=True, with_flops=True, profile_memory=True) as prof:\n",
    "        with record_function('graph_inference'):\n",
    "            model(inputs)\n",
    "\n",
    "def profile_jit(model, inputs, batch_size, device, dtype):\n",
    "    jit_model = torch.jit.trace(model, (inputs,)).to(device)\n",
    "    _ = jit_model(inputs)\n",
    "    \n",
    "    with profile(activities=[ProfilerActivity.CPU, ProfilerActivity.CUDA],\n",
    "                 on_trace_ready=torch.profiler.tensorboard_trace_handler(f'gpu_util/log/torchscript-batch{batch_size}-{dtype}'),\n",
    "                 record_shapes=True, with_flops=True, profile_memory=True) as prof:\n",
    "        with record_function('graph_inference'):\n",
    "            jit_model(inputs)\n",
    "\n",
    "def profile_trt(model, inputs, batch_size, device, dtype):\n",
    "    if dtype == \"fp16\":\n",
    "        enabled_precisions= { ttrt.dtype.half, ttrt.dtype.float }\n",
    "    else:\n",
    "        enabled_precisions= { ttrt.dtype.float }\n",
    "    \n",
    "    trt_model = ttrt.compile(model, inputs=inputs, enabled_precisions=enabled_precisions)\n",
    "    with profile(activities=[ProfilerActivity.CPU, ProfilerActivity.CUDA],\n",
    "                 on_trace_ready=torch.profiler.tensorboard_trace_handler(f'gpu_util/log/trt-batch{batch_size}-{dtype}'),\n",
    "                 record_shapes=True, with_flops=True, profile_memory=True) as prof:\n",
    "        with record_function('graph_inference'):\n",
    "            ttrt_model(inputs)\n"
   ]
  },
  {
   "cell_type": "code",
   "execution_count": 4,
   "id": "2feec268",
   "metadata": {},
   "outputs": [
    {
     "name": "stdout",
     "output_type": "stream",
     "text": [
      "Profiling ResNet for fp32 at batch 1\n",
      "Profiling ResNet for fp16 at batch 1\n"
     ]
    }
   ],
   "source": [
    "device = \"cuda:1\"\n",
    "\n",
    "for batch_size in [1]:\n",
    "    for dtype in [\"fp32\", \"fp16\"]:\n",
    "        print(f\"Profiling ResNet for {dtype} at batch {batch_size}\")\n",
    "        profile_onnx(f'onnx/onnx_models/resnet50-{dtype}.onnx', batch_size, dtype)\n",
    "\n",
    "        dtype = torch.half if dtype == \"fp16\" else torch.float32\n",
    "        inputs = torch.randn((batch_size, 3, 224,224), device=device, dtype=dtype)\n",
    "        model = models.resnet50().eval().to(device, dtype=dtype)\n",
    "\n",
    "\n",
    "        # profile_pytorch(model, inputs, batch_size, device, dtype)\n",
    "        # profile_jit(model, inputs, batch_size, device, dtype)\n",
    "        # try: profile_trt(model, inputs, batch_size, device, dtype)\n",
    "        \n",
    "    \n",
    "    \n"
   ]
  },
  {
   "cell_type": "code",
   "execution_count": 5,
   "id": "2d60c052",
   "metadata": {},
   "outputs": [
    {
     "name": "stderr",
     "output_type": "stream",
     "text": [
      "WARNING: [Torch-TensorRT] - Dilation not used in Max pooling converter\n",
      "WARNING: [Torch-TensorRT TorchScript Conversion Context] - TensorRT was linked against cuDNN 8.4.1 but loaded cuDNN 8.3.2\n",
      "WARNING: [Torch-TensorRT TorchScript Conversion Context] - The getMaxBatchSize() function should not be used with an engine built from a network created with NetworkDefinitionCreationFlag::kEXPLICIT_BATCH flag. This function will always return 1.\n",
      "WARNING: [Torch-TensorRT TorchScript Conversion Context] - The getMaxBatchSize() function should not be used with an engine built from a network created with NetworkDefinitionCreationFlag::kEXPLICIT_BATCH flag. This function will always return 1.\n"
     ]
    },
    {
     "ename": "RuntimeError",
     "evalue": "CUDA error: an illegal memory access was encountered\nCUDA kernel errors might be asynchronously reported at some other API call,so the stacktrace below might be incorrect.\nFor debugging consider passing CUDA_LAUNCH_BLOCKING=1.",
     "output_type": "error",
     "traceback": [
      "\u001b[0;31m---------------------------------------------------------------------------\u001b[0m",
      "\u001b[0;31mRuntimeError\u001b[0m                              Traceback (most recent call last)",
      "Cell \u001b[0;32mIn [5], line 21\u001b[0m\n\u001b[1;32m     18\u001b[0m torch\u001b[38;5;241m.\u001b[39mcuda\u001b[38;5;241m.\u001b[39msynchronize()\n\u001b[1;32m     19\u001b[0m _ \u001b[38;5;241m=\u001b[39m trt_model(inputs)\n\u001b[0;32m---> 21\u001b[0m \u001b[43mtorch\u001b[49m\u001b[38;5;241;43m.\u001b[39;49m\u001b[43mcuda\u001b[49m\u001b[38;5;241;43m.\u001b[39;49m\u001b[43msynchronize\u001b[49m\u001b[43m(\u001b[49m\u001b[43m)\u001b[49m\n\u001b[1;32m     23\u001b[0m timer \u001b[38;5;241m=\u001b[39m benchmark\u001b[38;5;241m.\u001b[39mTimer(\n\u001b[1;32m     24\u001b[0m         stmt\u001b[38;5;241m=\u001b[39m\u001b[38;5;124m\"\u001b[39m\u001b[38;5;124mmodel(inputs)\u001b[39m\u001b[38;5;124m\"\u001b[39m,\n\u001b[1;32m     25\u001b[0m         \u001b[38;5;28mglobals\u001b[39m\u001b[38;5;241m=\u001b[39m{\n\u001b[0;32m   (...)\u001b[0m\n\u001b[1;32m     28\u001b[0m         },\n\u001b[1;32m     29\u001b[0m     )\n\u001b[1;32m     30\u001b[0m \u001b[38;5;28mprint\u001b[39m(timer\u001b[38;5;241m.\u001b[39mtimeit(\u001b[38;5;241m100\u001b[39m)\u001b[38;5;241m.\u001b[39mmean)\n",
      "File \u001b[0;32m~/anaconda3/envs/device_benchmarking/lib/python3.9/site-packages/torch/cuda/__init__.py:496\u001b[0m, in \u001b[0;36msynchronize\u001b[0;34m(device)\u001b[0m\n\u001b[1;32m    494\u001b[0m _lazy_init()\n\u001b[1;32m    495\u001b[0m \u001b[38;5;28;01mwith\u001b[39;00m torch\u001b[38;5;241m.\u001b[39mcuda\u001b[38;5;241m.\u001b[39mdevice(device):\n\u001b[0;32m--> 496\u001b[0m     \u001b[38;5;28;01mreturn\u001b[39;00m \u001b[43mtorch\u001b[49m\u001b[38;5;241;43m.\u001b[39;49m\u001b[43m_C\u001b[49m\u001b[38;5;241;43m.\u001b[39;49m\u001b[43m_cuda_synchronize\u001b[49m\u001b[43m(\u001b[49m\u001b[43m)\u001b[49m\n",
      "\u001b[0;31mRuntimeError\u001b[0m: CUDA error: an illegal memory access was encountered\nCUDA kernel errors might be asynchronously reported at some other API call,so the stacktrace below might be incorrect.\nFor debugging consider passing CUDA_LAUNCH_BLOCKING=1."
     ]
    }
   ],
   "source": [
    "CUDA_LAUNCH_BLOCKING=1\n",
    "device=\"cuda:1\"\n",
    "dtype=torch.float\n",
    "\n",
    "torch.cuda.synchronize()\n",
    "\n",
    "for batch_size in [1, 2, 4, 8, 16, 32, 64]:\n",
    "    inputs = torch.randn((batch_size, 3, 224,224), device=device, dtype=dtype)\n",
    "    model = models.resnet50().eval().to(device, dtype=dtype)\n",
    "    jit_model = torch.jit.trace(model, (inputs,))\n",
    "    trt_model = ttrt.compile(\n",
    "        model, \n",
    "        inputs = [ttrt.Input((batch_size, 3, 224, 224), dtype=torch.float32)],\n",
    "        enabled_precisions = torch.float32, # Run with FP32\n",
    "        workspace_size = 1 << 22\n",
    "    )\n",
    "    \n",
    "    torch.cuda.synchronize()\n",
    "    _ = trt_model(inputs)\n",
    "    \n",
    "    torch.cuda.synchronize()\n",
    "    \n",
    "    timer = benchmark.Timer(\n",
    "            stmt=\"model(inputs)\",\n",
    "            globals={\n",
    "                \"model\": trt_model,\n",
    "                \"inputs\": inputs,\n",
    "            },\n",
    "        )\n",
    "    print(timer.timeit(100).mean)"
   ]
  },
  {
   "cell_type": "code",
   "execution_count": 12,
   "id": "204ffdb4",
   "metadata": {},
   "outputs": [
    {
     "name": "stdout",
     "output_type": "stream",
     "text": [
      "0.002735559493303299\n",
      "0.0035587241873145103\n",
      "0.005048961080610752\n",
      "0.00730186615139246\n",
      "0.01217206597328186\n",
      "0.023698123916983605\n",
      "0.04552473366260529\n"
     ]
    }
   ],
   "source": [
    "for batch_size in [1, 2, 4, 8, 16, 32, 64]:\n",
    "    session = ort.InferenceSession(\"onnx/onnx_models/resnet50-fp32.onnx\", providers=[\"CUDAExecutionProvider\"])\n",
    "    io_binding = session.io_binding()\n",
    "\n",
    "    create_and_bind_rgb(io_binding, batch_size, torch.float , True)\n",
    "    session.run_with_iobinding(io_binding)\n",
    "\n",
    "    timer = benchmark.Timer(\n",
    "            stmt=\"session.run_with_iobinding(iobinds)\",\n",
    "            globals={\n",
    "                \"session\": session,\n",
    "                \"iobinds\": io_binding,\n",
    "            },\n",
    "        )\n",
    "    print(timer.timeit(100).mean)"
   ]
  }
 ],
 "metadata": {
  "kernelspec": {
   "display_name": "Python 3 (ipykernel)",
   "language": "python",
   "name": "python3"
  },
  "language_info": {
   "codemirror_mode": {
    "name": "ipython",
    "version": 3
   },
   "file_extension": ".py",
   "mimetype": "text/x-python",
   "name": "python",
   "nbconvert_exporter": "python",
   "pygments_lexer": "ipython3",
   "version": "3.8.13"
  }
 },
 "nbformat": 4,
 "nbformat_minor": 5
}
